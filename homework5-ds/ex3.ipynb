{
 "metadata": {
  "language_info": {
   "codemirror_mode": {
    "name": "ipython",
    "version": 3
   },
   "file_extension": ".py",
   "mimetype": "text/x-python",
   "name": "python",
   "nbconvert_exporter": "python",
   "pygments_lexer": "ipython3",
   "version": "3.8.3-final"
  },
  "orig_nbformat": 2,
  "kernelspec": {
   "name": "python3",
   "display_name": "Python 3",
   "language": "python"
  }
 },
 "nbformat": 4,
 "nbformat_minor": 2,
 "cells": [
  {
   "source": [
    "Create a classifier for predicting sentiment using social media messages in Thai language. \n",
    "\n",
    "### Notes:\n",
    "* This is a classification problem\n",
    "* Data source: https://github.com/PyThaiNLP/wisesight-sentiment/\n",
    "* Other models using this dataset: https://github.com/PyThaiNLP/wisesight-sentiment/tree/master/kaggle-competition \n",
    "* Steps:    \n",
    "    1. Download the data\n",
    "    2. Visualise the data\n",
    "    3. (If needed) clean, normalise, transform and visualise the data to get a feeling about potential relationships between the variables\n",
    "    4. Try to find the most relevant features (feature selection)\n",
    "    5. Try to create new features\n",
    "    6. Agree on a metric (i.e. Precision and recall)\n",
    "    7. Develop a classification model (start with simple models and then grow in complexity)    \n",
    "    8. Analyse the results for train + test data and compare different models"
   ],
   "cell_type": "markdown",
   "metadata": {}
  },
  {
   "cell_type": "code",
   "execution_count": 1,
   "metadata": {},
   "outputs": [],
   "source": [
    "import numpy as np\n",
    "import pandas as pd \n",
    "from sklearn.feature_extraction.text import TfidfVectorizer\n",
    "from pythainlp import word_tokenize"
   ]
  },
  {
   "cell_type": "code",
   "execution_count": 2,
   "metadata": {},
   "outputs": [],
   "source": [
    "# f = open(\"ex3-data/neg.txt\")\n",
    "# neg_comments = f.read().splitlines()\n",
    "# f.close()\n",
    "with open('ex3-data/neg.txt', 'r') as f:\n",
    "    neg_comments = f.read().splitlines()\n",
    "\n",
    "with open('ex3-data/pos.txt', 'r') as f:\n",
    "    pos_comments = f.read().splitlines()\n",
    "\n",
    "with open('ex3-data/neu.txt', 'r') as f:\n",
    "    neu_comments = f.read().splitlines()"
   ]
  },
  {
   "cell_type": "code",
   "execution_count": 3,
   "metadata": {},
   "outputs": [
    {
     "output_type": "execute_result",
     "data": {
      "text/plain": [
       "  comments     label\n",
       "0       ☹️  negative\n",
       "1        😔  negative\n",
       "2        😞  negative\n",
       "3        😥  negative\n",
       "4       รำ  negative"
      ],
      "text/html": "<div>\n<style scoped>\n    .dataframe tbody tr th:only-of-type {\n        vertical-align: middle;\n    }\n\n    .dataframe tbody tr th {\n        vertical-align: top;\n    }\n\n    .dataframe thead th {\n        text-align: right;\n    }\n</style>\n<table border=\"1\" class=\"dataframe\">\n  <thead>\n    <tr style=\"text-align: right;\">\n      <th></th>\n      <th>comments</th>\n      <th>label</th>\n    </tr>\n  </thead>\n  <tbody>\n    <tr>\n      <th>0</th>\n      <td>☹️</td>\n      <td>negative</td>\n    </tr>\n    <tr>\n      <th>1</th>\n      <td>😔</td>\n      <td>negative</td>\n    </tr>\n    <tr>\n      <th>2</th>\n      <td>😞</td>\n      <td>negative</td>\n    </tr>\n    <tr>\n      <th>3</th>\n      <td>😥</td>\n      <td>negative</td>\n    </tr>\n    <tr>\n      <th>4</th>\n      <td>รำ</td>\n      <td>negative</td>\n    </tr>\n  </tbody>\n</table>\n</div>"
     },
     "metadata": {},
     "execution_count": 3
    }
   ],
   "source": [
    "neg_comments_with_labels = list(map(lambda x: (x, 'negative'), neg_comments))\n",
    "pos_comments_with_labels = list(map(lambda x: (x, 'positive'), pos_comments))\n",
    "neu_comments_with_labels = list(map(lambda x: (x, 'neutral'), neu_comments))\n",
    "\n",
    "comments = neg_comments_with_labels + pos_comments_with_labels + neu_comments_with_labels\n",
    "\n",
    "df = pd.DataFrame(data=comments,columns=['comments', 'label'])\n",
    "df.head()\n"
   ]
  },
  {
   "cell_type": "code",
   "execution_count": 4,
   "metadata": {},
   "outputs": [],
   "source": [
    "MIN_COMMENT_LEN = 5\n",
    "\n",
    "comments = \"\"\n",
    "for comment in df['comments'].values:\n",
    "    if len(word_tokenize(comment)) > MIN_COMMENT_LEN:\n",
    "        comments += \" \" + comment"
   ]
  },
  {
   "cell_type": "code",
   "execution_count": 6,
   "metadata": {},
   "outputs": [
    {
     "output_type": "execute_result",
     "data": {
      "text/plain": [
       "TfidfVectorizer(stop_words='english',\n",
       "                tokenizer=<function word_tokenize at 0x7fda311e81f0>)"
      ]
     },
     "metadata": {},
     "execution_count": 6
    }
   ],
   "source": [
    "tfidf = TfidfVectorizer(tokenizer=word_tokenize, stop_words='english')\n",
    "tfidf.fit(comments.split())"
   ]
  },
  {
   "cell_type": "code",
   "execution_count": 23,
   "metadata": {},
   "outputs": [],
   "source": [
    "X = []\n",
    "y = []\n",
    "for ix, comment in enumerate(df['comments'].values):\n",
    "    tokenized = word_tokenize(comment)\n",
    "    if len(tokenized) > MIN_COMMENT_LEN:\n",
    "        X.append(tfidf.transform([comment]))\n",
    "        y.append(df['label'][ix])\n"
   ]
  },
  {
   "cell_type": "code",
   "execution_count": 35,
   "metadata": {},
   "outputs": [],
   "source": [
    "from sklearn.ensemble import RandomForestClassifier \n",
    "from sklearn.model_selection import train_test_split\n",
    "\n",
    "X_train, X_test, y_train, y_test = train_test_split(X, y, test_size=0.2, random_state=0)"
   ]
  },
  {
   "cell_type": "code",
   "execution_count": 36,
   "metadata": {},
   "outputs": [],
   "source": [
    "X_train = list(map(lambda x: x.toarray()[0], X_train))\n",
    "X_test = list(map(lambda x: x.toarray()[0], X_test))"
   ]
  },
  {
   "cell_type": "code",
   "execution_count": 37,
   "metadata": {},
   "outputs": [
    {
     "output_type": "execute_result",
     "data": {
      "text/plain": [
       "RandomForestClassifier()"
      ]
     },
     "metadata": {},
     "execution_count": 37
    }
   ],
   "source": [
    "clf = RandomForestClassifier()\n",
    "clf.fit(X_train, y_train)"
   ]
  },
  {
   "cell_type": "code",
   "execution_count": 38,
   "metadata": {},
   "outputs": [
    {
     "output_type": "execute_result",
     "data": {
      "text/plain": [
       "0.7087184611541344"
      ]
     },
     "metadata": {},
     "execution_count": 38
    }
   ],
   "source": [
    "clf.score(X_test, y_test)"
   ]
  }
 ]
}